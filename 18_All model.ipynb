{
 "cells": [
  {
   "cell_type": "markdown",
   "metadata": {},
   "source": [
    "# Supervised Learning\n",
    "**Linear Regression, Multiple Linear Regression, Polynomial Regression, Ridge Regression, Lasso Regression, Elastic Net, Logistic Regression, Decision Trees, Random Forest, Gradient Boosting, XGBoost, LightGBM, CatBoost, Naive Bayes, Support Vector Machines (SVM), k-Nearest Neighbors (k-NN), Linear Discriminant Analysis, Quadratic Discriminant Analysis**\n",
    "\n",
    "\n",
    "# Unsupervised Learning\n",
    "**K-Means Clustering, Hierarchical Clustering, DBSCAN, Principal Component Analysis (PCA), Singular Value Decomposition (SVD), Gaussian Mixture Models, Self-Organizing Maps**\n",
    "\n",
    "\n",
    "# Reinforcement Learning\n",
    "**Q-Learning, SARSA (State-Action-Reward-State-Action), Deep Q Network (DQN), Policy Gradients, Actor-Critic Methods, Monte Carlo Methods**\n",
    "\n",
    "\n",
    "# Neural Networks and Deep Learning\n",
    "**Perceptron, Multi-layer Perceptrons (MLP), Convolutional Neural Networks (CNNs), Recurrent Neural Networks (RNNs), Long Short-Term Memory Networks (LSTMs), Generative Adversarial Networks (GANs), Transformer Networks, Autoencoders**\n",
    "\n",
    "\n",
    "# Ensemble Methods\n",
    "\n",
    "**Bagging, Boosting, Stacking, Random Forest, Gradient Boosting Machines (GBM), AdaBoost, XGBoost, LightGBM, CatBoost**\n",
    "\n",
    "# Dimensionality Reduction\n",
    "**Principal Component Analysis (PCA), Linear Discriminant Analysis (LDA), t-Distributed Stochastic Neighbor Embedding (t-SNE), Uniform Manifold Approximation and Projection (UMAP)**"
   ]
  }
 ],
 "metadata": {
  "language_info": {
   "name": "python"
  }
 },
 "nbformat": 4,
 "nbformat_minor": 2
}
