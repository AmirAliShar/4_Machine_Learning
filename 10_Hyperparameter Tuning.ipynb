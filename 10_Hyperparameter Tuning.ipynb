{
 "cells": [
  {
   "cell_type": "code",
   "execution_count": 26,
   "metadata": {},
   "outputs": [],
   "source": [
    "import pandas as pd\n",
    "import seaborn as sns\n",
    "from sklearn.ensemble import RandomForestClassifier,RandomForestRegressor\n",
    "from sklearn.model_selection import train_test_split,GridSearchCV\n",
    "from sklearn.preprocessing import LabelEncoder\n",
    "\n",
    "from sklearn.metrics import accuracy_score,confusion_matrix,classification_report\n",
    "\n",
    "#Remove the warning\n",
    "import warnings\n",
    "warnings.filterwarnings('ignore')"
   ]
  },
  {
   "cell_type": "code",
   "execution_count": 2,
   "metadata": {},
   "outputs": [],
   "source": [
    "#Load the data set\n",
    "from sklearn.datasets import load_iris\n",
    "iris=load_iris()\n",
    "iris\n",
    "x=iris.data\n",
    "y=iris.target\n"
   ]
  },
  {
   "cell_type": "code",
   "execution_count": 30,
   "metadata": {},
   "outputs": [
    {
     "name": "stdout",
     "output_type": "stream",
     "text": [
      "Fitting 5 folds for each of 168 candidates, totalling 840 fits\n",
      "Best parameter {'bootstrap': True, 'criterion': 'gini', 'max_depth': 4, 'n_estimators': 100}\n"
     ]
    }
   ],
   "source": [
    "#Define the model\n",
    "model=RandomForestClassifier()\n",
    "\n",
    "#Create the parameter grid\n",
    "param_grid={\n",
    "    \"n_estimators\":[50,100,200,300,400,500],\n",
    "    \"max_depth\":[4,5,6,7,8,9,10],\n",
    "    \"criterion\":[\"gini\",\"entropy\"],\n",
    "    \"bootstrap\":[True,False]\n",
    "\n",
    "}\n",
    "\n",
    "#set the grid\n",
    "grid=GridSearchCV(\n",
    "    estimator=model,\n",
    "    param_grid=param_grid,\n",
    "    cv=5,#cross validation\n",
    "    scoring=\"accuracy\",\n",
    "    verbose=1,\n",
    "    n_jobs=-1\n",
    ")\n",
    "\n",
    "#fit the model\n",
    "grid.fit(x,y)\n",
    "\n",
    "#print the best parameter\n",
    "print(f\"Best parameter {grid.best_params_}\")"
   ]
  },
  {
   "cell_type": "code",
   "execution_count": 23,
   "metadata": {},
   "outputs": [],
   "source": [
    "df=sns.load_dataset(\"tips\")\n",
    "for i in df:\n",
    "    if df[i].dtype ==\"category\":\n",
    "        df[i]=LabelEncoder().fit_transform(df[i])\n",
    "#Seprate the feature and target variable\n",
    "X=df.drop(\"tip\",axis=1)\n",
    "Y=df[\"tip\"]\n",
    "\n"
   ]
  },
  {
   "cell_type": "code",
   "execution_count": 27,
   "metadata": {},
   "outputs": [
    {
     "name": "stdout",
     "output_type": "stream",
     "text": [
      "Best parameters found: {'bootstrap': True, 'max_depth': None, 'min_samples_leaf': 2, 'min_samples_split': 10, 'n_estimators': 50}\n",
      "Best negative MSE score: -1.0944975638095376\n"
     ]
    }
   ],
   "source": [
    "#build the model\n",
    "\n",
    "model=RandomForestClassifier()\n",
    "# Define the parameter grid and RandomForestRegressor model\n",
    "param_grid = {\n",
    "    'n_estimators': [50, 100, 200],\n",
    "    'max_depth': [None, 10, 20, 30],\n",
    "    'min_samples_split': [2, 5, 10],\n",
    "    'min_samples_leaf': [1, 2, 4],\n",
    "    'bootstrap': [True, False]\n",
    "}\n",
    "\n",
    "\n",
    "# Set up GridSearchCV with a regression-appropriate scoring metric\n",
    "grid_search = GridSearchCV(\n",
    "    estimator=model,\n",
    "    param_grid=param_grid,\n",
    "    scoring='neg_mean_squared_error',  # or 'r2', 'neg_mean_absolute_error'\n",
    "    cv=5,\n",
    "    n_jobs=-1\n",
    ")\n",
    "# Fit the model to find the best parameters\n",
    "grid_search.fit(X,Y)\n",
    "\n",
    "# Output best parameters and score\n",
    "print(\"Best parameters found:\", grid_search.best_params_)\n",
    "print(\"Best negative MSE score:\", grid_search.best_score_)"
   ]
  },
  {
   "cell_type": "markdown",
   "metadata": {},
   "source": [
    "# RandomizedSearchCV"
   ]
  },
  {
   "cell_type": "code",
   "execution_count": 7,
   "metadata": {},
   "outputs": [
    {
     "name": "stdout",
     "output_type": "stream",
     "text": [
      "Fitting 5 folds for each of 20 candidates, totalling 100 fits\n",
      "Best parameter {'n_estimators': 300, 'max_depth': 5, 'criterion': 'gini', 'bootstrap': True}\n",
      "CPU times: total: 672 ms\n",
      "Wall time: 12 s\n"
     ]
    }
   ],
   "source": [
    "%%time\n",
    "#for randomized search cv\n",
    "from sklearn.model_selection import RandomizedSearchCV\n",
    "#Define the model\n",
    "model=RandomForestClassifier()\n",
    "\n",
    "#Create the parameter grid\n",
    "param_grid={\n",
    "    \"n_estimators\":[50,100,200,300,400,500],\n",
    "    \"max_depth\":[4,5,6,7,8,9,10],\n",
    "    \"criterion\":[\"gini\",\"entropy\"],\n",
    "    \"bootstrap\":[True,False]\n",
    "\n",
    "}\n",
    "\n",
    "#set the grid\n",
    "grid=RandomizedSearchCV(\n",
    "    estimator=model,\n",
    "    param_distributions=param_grid,\n",
    "    cv=5,#cross validation\n",
    "    scoring=\"accuracy\",\n",
    "    verbose=1,\n",
    "    n_jobs=-1,\n",
    "    n_iter=20\n",
    ")\n",
    "\n",
    "#fit the model\n",
    "grid.fit(x,y)\n",
    "\n",
    "#print the best parameter\n",
    "print(f\"Best parameter {grid.best_params_}\")"
   ]
  }
 ],
 "metadata": {
  "kernelspec": {
   "display_name": "Python 3",
   "language": "python",
   "name": "python3"
  },
  "language_info": {
   "codemirror_mode": {
    "name": "ipython",
    "version": 3
   },
   "file_extension": ".py",
   "mimetype": "text/x-python",
   "name": "python",
   "nbconvert_exporter": "python",
   "pygments_lexer": "ipython3",
   "version": "3.12.4"
  }
 },
 "nbformat": 4,
 "nbformat_minor": 2
}
