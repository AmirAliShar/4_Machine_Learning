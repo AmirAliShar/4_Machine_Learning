{
 "cells": [
  {
   "cell_type": "code",
   "execution_count": 1,
   "metadata": {},
   "outputs": [
    {
     "name": "stdout",
     "output_type": "stream",
     "text": [
      "MSE for Lasso =  0.0300065075746325\n",
      "MSE for Ridge =  0.009770850648518284 \n",
      "\n",
      "R2 for Lasso =  0.999996905624695\n",
      "R2 for Ridge =  0.9999989923959368\n"
     ]
    }
   ],
   "source": [
    "from sklearn.linear_model import Lasso,Ridge\n",
    "from sklearn.datasets import make_regression\n",
    "from sklearn.model_selection import train_test_split\n",
    "from sklearn.metrics import mean_squared_error,r2_score\n",
    "X,y=make_regression(n_samples=10000,n_features=2,noise=0.1,random_state=42)\n",
    "\n",
    "X_train,X_test,Y_train,Y_test=train_test_split(X,y,test_size=0.2,random_state=42)\n",
    "\n",
    "lasso=Lasso(alpha=0.1)#Less data good work and less alpha value good less error\n",
    "\n",
    "ridge=Ridge(alpha=0.1)#More data good work and less alpha value good less error\n",
    "\n",
    "lasso.fit(X_train,Y_train)\n",
    "ridge.fit(X_train,Y_train)\n",
    "\n",
    "y_pred=lasso.predict(X_test)\n",
    "Y_pred=ridge.predict(X_test)\n",
    "\n",
    "print(\"MSE for Lasso = \",mean_squared_error(Y_test,y_pred))\n",
    "print(\"MSE for Ridge = \",mean_squared_error(Y_test,Y_pred),'\\n')\n",
    "\n",
    "print(\"R2 for Lasso = \",r2_score(Y_test,y_pred))\n",
    "print(\"R2 for Ridge = \",r2_score(Y_test,Y_pred))"
   ]
  },
  {
   "cell_type": "code",
   "execution_count": null,
   "metadata": {},
   "outputs": [],
   "source": []
  }
 ],
 "metadata": {
  "kernelspec": {
   "display_name": "Python 3",
   "language": "python",
   "name": "python3"
  },
  "language_info": {
   "codemirror_mode": {
    "name": "ipython",
    "version": 3
   },
   "file_extension": ".py",
   "mimetype": "text/x-python",
   "name": "python",
   "nbconvert_exporter": "python",
   "pygments_lexer": "ipython3",
   "version": "3.12.4"
  }
 },
 "nbformat": 4,
 "nbformat_minor": 2
}
