{
 "cells": [
  {
   "cell_type": "code",
   "execution_count": 23,
   "metadata": {},
   "outputs": [],
   "source": [
    "import numpy as np # type: ignore\n",
    "import pandas as pd \n",
    "import seaborn as sns\n",
    "import matplotlib.pyplot as plt\n",
    "from sklearn.naive_bayes import GaussianNB,BernoulliNB,MultinomialNB\n",
    "from sklearn.model_selection import train_test_split\n",
    "from sklearn.metrics import accuracy_score,confusion_matrix,classification_report \n",
    "from sklearn.datasets import load_iris\n",
    "\n"
   ]
  },
  {
   "cell_type": "code",
   "execution_count": 24,
   "metadata": {},
   "outputs": [],
   "source": [
    "df=load_iris()\n",
    "#feature and target variable\n",
    "X=df.data\n",
    "\n",
    "Y=df.target\n",
    "#Train test and split the data\n",
    "X_train,X_test,Y_train,Y_test=train_test_split(X,Y,test_size=0.2,random_state=42)"
   ]
  },
  {
   "cell_type": "code",
   "execution_count": 25,
   "metadata": {},
   "outputs": [
    {
     "name": "stdout",
     "output_type": "stream",
     "text": [
      "accuracy_score  1.0\n",
      "confusion_matrix = \n",
      " [[10  0  0]\n",
      " [ 0  9  0]\n",
      " [ 0  0 11]]\n",
      "classification report \n",
      "=                precision    recall  f1-score   support\n",
      "\n",
      "           0       1.00      1.00      1.00        10\n",
      "           1       1.00      1.00      1.00         9\n",
      "           2       1.00      1.00      1.00        11\n",
      "\n",
      "    accuracy                           1.00        30\n",
      "   macro avg       1.00      1.00      1.00        30\n",
      "weighted avg       1.00      1.00      1.00        30\n",
      "\n"
     ]
    }
   ],
   "source": [
    "#Gaussian model\n",
    "#Build the model\n",
    "model=GaussianNB()\n",
    "\n",
    "#Train the model\n",
    "model.fit(X_train,Y_train)\n",
    "#predication\n",
    "Y_pred=model.predict(X_test)\n",
    "\n",
    "#Evaluate the model\n",
    "print(\"accuracy_score \",accuracy_score(Y_test,Y_pred))\n",
    "print(\"confusion_matrix = \\n\",confusion_matrix(Y_test,Y_pred))\n",
    "print(\"classification report \\n= \",classification_report(Y_test,Y_pred))"
   ]
  },
  {
   "cell_type": "code",
   "execution_count": 26,
   "metadata": {},
   "outputs": [
    {
     "name": "stdout",
     "output_type": "stream",
     "text": [
      "accuracy_score  0.9\n",
      "confusion_matrix = \n",
      " [[10  0  0]\n",
      " [ 0  9  0]\n",
      " [ 0  3  8]]\n",
      "classification report \n",
      "=                precision    recall  f1-score   support\n",
      "\n",
      "           0       1.00      1.00      1.00        10\n",
      "           1       0.75      1.00      0.86         9\n",
      "           2       1.00      0.73      0.84        11\n",
      "\n",
      "    accuracy                           0.90        30\n",
      "   macro avg       0.92      0.91      0.90        30\n",
      "weighted avg       0.93      0.90      0.90        30\n",
      "\n"
     ]
    }
   ],
   "source": [
    "#Multinomial NB\n",
    "#Build the model\n",
    "mnb=MultinomialNB()\n",
    "\n",
    "#Train the model\n",
    "mnb.fit(X_train,Y_train)\n",
    "#predication\n",
    "Y_pred=mnb.predict(X_test)\n",
    "\n",
    "#Evaluate the model\n",
    "print(\"accuracy_score \",accuracy_score(Y_test,Y_pred))\n",
    "print(\"confusion_matrix = \\n\",confusion_matrix(Y_test,Y_pred))\n",
    "print(\"classification report \\n= \",classification_report(Y_test,Y_pred))"
   ]
  },
  {
   "cell_type": "code",
   "execution_count": 27,
   "metadata": {},
   "outputs": [
    {
     "name": "stdout",
     "output_type": "stream",
     "text": [
      "accuracy_score  0.9\n",
      "confusion_matrix = \n",
      " [[10  0  0]\n",
      " [ 0  9  0]\n",
      " [ 0  3  8]]\n",
      "classification report \n",
      "=                precision    recall  f1-score   support\n",
      "\n",
      "           0       1.00      1.00      1.00        10\n",
      "           1       0.75      1.00      0.86         9\n",
      "           2       1.00      0.73      0.84        11\n",
      "\n",
      "    accuracy                           0.90        30\n",
      "   macro avg       0.92      0.91      0.90        30\n",
      "weighted avg       0.93      0.90      0.90        30\n",
      "\n"
     ]
    }
   ],
   "source": [
    "#Burali NB\n",
    "#Build the model\n",
    "bnb=BernoulliNB()\n",
    "\n",
    "#Train the model\n",
    "bnb.fit(X_train,Y_train)\n",
    "#predication\n",
    "Y_pred=mnb.predict(X_test)\n",
    "\n",
    "#Evaluate the model\n",
    "print(\"accuracy_score \",accuracy_score(Y_test,Y_pred))\n",
    "print(\"confusion_matrix = \\n\",confusion_matrix(Y_test,Y_pred))\n",
    "print(\"classification report \\n= \",classification_report(Y_test,Y_pred))"
   ]
  }
 ],
 "metadata": {
  "kernelspec": {
   "display_name": "Python 3",
   "language": "python",
   "name": "python3"
  },
  "language_info": {
   "codemirror_mode": {
    "name": "ipython",
    "version": 3
   },
   "file_extension": ".py",
   "mimetype": "text/x-python",
   "name": "python",
   "nbconvert_exporter": "python",
   "pygments_lexer": "ipython3",
   "version": "3.12.4"
  }
 },
 "nbformat": 4,
 "nbformat_minor": 2
}
